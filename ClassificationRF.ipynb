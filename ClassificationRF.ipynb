{
  "nbformat": 4,
  "nbformat_minor": 0,
  "metadata": {
    "colab": {
      "provenance": []
    },
    "kernelspec": {
      "name": "python3",
      "display_name": "Python 3"
    },
    "language_info": {
      "name": "python"
    }
  },
  "cells": [
    {
      "cell_type": "code",
      "execution_count": null,
      "metadata": {
        "id": "yyk1_aQ5s-Q9"
      },
      "outputs": [],
      "source": [
        "#importing packages\n",
        "import pandas as pd\n",
        "import numpy as np\n",
        "from sklearn.model_selection import train_test_split\n",
        "from sklearn.tree import DecisionTreeClassifier\n",
        "from sklearn.ensemble import RandomForestClassifier\n",
        "import sklearn.metrics\n",
        "from sklearn.preprocessing import LabelEncoder"
      ]
    },
    {
      "cell_type": "code",
      "source": [
        "#uploading data\n",
        "data = pd.read_csv('AdultUCI.csv', sep = ',')"
      ],
      "metadata": {
        "id": "tyGo78YetJQE"
      },
      "execution_count": null,
      "outputs": []
    },
    {
      "cell_type": "code",
      "source": [
        "#dropping null values\n",
        "data = data.dropna()\n",
        "data.isna().sum()"
      ],
      "metadata": {
        "id": "Qnn3jrN1tocG"
      },
      "execution_count": null,
      "outputs": []
    },
    {
      "cell_type": "code",
      "source": [
        "#checking variable levels & dropping > 32\n",
        "data.nunique()\n",
        "df = data.drop('native-country', axis=1)\n",
        "df.head()"
      ],
      "metadata": {
        "id": "2d36HP_ctz63"
      },
      "execution_count": null,
      "outputs": []
    },
    {
      "cell_type": "code",
      "source": [
        "#encoding categorical data\n",
        "label_encoders = {}\n",
        "for column in df.select_dtypes(include=['object']).columns:\n",
        "    label_encoder = LabelEncoder()\n",
        "    df[column] = label_encoder.fit_transform(df[column])\n",
        "    label_encoders[column] = label_encoder"
      ],
      "metadata": {
        "id": "SlUebLYg4wei"
      },
      "execution_count": null,
      "outputs": []
    },
    {
      "cell_type": "code",
      "source": [
        "#splitting dataframes to target & predictors\n",
        "predictors = df.iloc[:,[0,1,2,3,4,5,6,7,8,9,10,11,12]]\n",
        "target = df.iloc[:,[13]]"
      ],
      "metadata": {
        "id": "KvtEkZWWvdG2"
      },
      "execution_count": null,
      "outputs": []
    },
    {
      "cell_type": "code",
      "source": [
        "#splitting the data 80/20\n",
        "pred_train, pred_test, tar_train, tar_test  =  train_test_split(predictors, target, test_size=.2, random_state=1)"
      ],
      "metadata": {
        "id": "0-BTBtB9ydJK"
      },
      "execution_count": null,
      "outputs": []
    },
    {
      "cell_type": "code",
      "source": [
        "pred_train.shape"
      ],
      "metadata": {
        "id": "uaXKLqpcymHh"
      },
      "execution_count": null,
      "outputs": []
    },
    {
      "cell_type": "code",
      "source": [
        "tar_train.shape"
      ],
      "metadata": {
        "id": "bMkGplgn0p8v"
      },
      "execution_count": null,
      "outputs": []
    },
    {
      "cell_type": "code",
      "source": [
        "#building the decision tree on the training data\n",
        "classifier = DecisionTreeClassifier()\n",
        "classifier = classifier.fit(pred_train, tar_train)"
      ],
      "metadata": {
        "id": "iQgb6l80zOZr"
      },
      "execution_count": null,
      "outputs": []
    },
    {
      "cell_type": "code",
      "source": [
        "#predicting on the testing data\n",
        "predictions=classifier.predict(pred_test)"
      ],
      "metadata": {
        "id": "Rfp1TA395W_2"
      },
      "execution_count": null,
      "outputs": []
    },
    {
      "cell_type": "code",
      "source": [
        "#confusion matrix (Decision Tree)\n",
        "sklearn.metrics.confusion_matrix(tar_test,predictions)"
      ],
      "metadata": {
        "id": "q7csJZIU5fU5"
      },
      "execution_count": null,
      "outputs": []
    },
    {
      "cell_type": "code",
      "source": [
        "#calculating the accuracy (Decision Tree)\n",
        "accuracy = sklearn.metrics.accuracy_score(tar_test, predictions)\n",
        "accuracy"
      ],
      "metadata": {
        "id": "U4WCxuku5g5A"
      },
      "execution_count": null,
      "outputs": []
    },
    {
      "cell_type": "code",
      "source": [
        "#random forest n = 50\n",
        "rf_classifier = RandomForestClassifier(n_estimators=50, random_state=1)\n",
        "rf_model = rf_classifier.fit(pred_train,tar_train)"
      ],
      "metadata": {
        "id": "XUQoUMrs6EEU"
      },
      "execution_count": null,
      "outputs": []
    },
    {
      "cell_type": "code",
      "source": [
        "#random forest predictions\n",
        "rf_predictions = rf_model.predict(pred_test)"
      ],
      "metadata": {
        "id": "2Dc4lTH46aIp"
      },
      "execution_count": null,
      "outputs": []
    },
    {
      "cell_type": "code",
      "source": [
        "#confusion matrix (Random Forest)\n",
        "sklearn.metrics.confusion_matrix(tar_test,rf_predictions)"
      ],
      "metadata": {
        "id": "5TQEWX9T7rkn"
      },
      "execution_count": null,
      "outputs": []
    },
    {
      "cell_type": "code",
      "source": [
        "#calculating the accuracy (Random Forest)\n",
        "rf_accuracy = sklearn.metrics.accuracy_score(tar_test, rf_predictions)\n",
        "rf_accuracy"
      ],
      "metadata": {
        "id": "9hAIfiH_68Tj"
      },
      "execution_count": null,
      "outputs": []
    },
    {
      "cell_type": "code",
      "source": [
        "accuracy, rf_accuracy"
      ],
      "metadata": {
        "id": "q2bqS5biQ-em"
      },
      "execution_count": null,
      "outputs": []
    },
    {
      "cell_type": "code",
      "source": [],
      "metadata": {
        "id": "_AWcZXypRDSB"
      },
      "execution_count": null,
      "outputs": []
    }
  ]
}