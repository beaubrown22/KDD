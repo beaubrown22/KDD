{
  "nbformat": 4,
  "nbformat_minor": 0,
  "metadata": {
    "kernelspec": {
      "display_name": "Python 3",
      "language": "python",
      "name": "python3"
    },
    "language_info": {
      "codemirror_mode": {
        "name": "ipython",
        "version": 3
      },
      "file_extension": ".py",
      "mimetype": "text/x-python",
      "name": "python",
      "nbconvert_exporter": "python",
      "pygments_lexer": "ipython3",
      "version": "3.7.3"
    },
    "colab": {
      "provenance": []
    }
  },
  "cells": [
    {
      "cell_type": "code",
      "metadata": {
        "colab": {
          "base_uri": "https://localhost:8080/"
        },
        "id": "7TVX7AAxKV3Z",
        "outputId": "029c8c2d-33a3-4289-8953-5477a0a09add"
      },
      "source": [
        "from google.colab import drive\n",
        "drive.mount('/content/drive', force_remount=True)"
      ],
      "execution_count": 1,
      "outputs": [
        {
          "output_type": "stream",
          "name": "stdout",
          "text": [
            "Mounted at /content/drive\n"
          ]
        }
      ]
    },
    {
      "cell_type": "code",
      "metadata": {
        "colab": {
          "base_uri": "https://localhost:8080/"
        },
        "id": "B0xiIvZOKfu8",
        "outputId": "f67080b1-ec26-47dd-bcb5-4d66ffff1813"
      },
      "source": [
        "%cd /content/drive/My Drive/ColabData"
      ],
      "execution_count": 2,
      "outputs": [
        {
          "output_type": "stream",
          "name": "stdout",
          "text": [
            "/content/drive/My Drive/ColabData\n"
          ]
        }
      ]
    },
    {
      "cell_type": "code",
      "metadata": {
        "colab": {
          "base_uri": "https://localhost:8080/"
        },
        "id": "49wgYCDRKPIG",
        "outputId": "461773e5-91ad-4bba-d021-5b1bca7ee13b"
      },
      "source": [
        "import pandas as pd\n",
        "data = pd.read_csv('abcnews-date-text.csv')"
      ],
      "execution_count": 3,
      "outputs": [
        {
          "output_type": "stream",
          "name": "stderr",
          "text": [
            "<ipython-input-3-94191e8b1df0>:2: DtypeWarning: Columns (3) have mixed types. Specify dtype option on import or set low_memory=False.\n",
            "  data = pd.read_csv('abcnews-date-text.csv')\n"
          ]
        }
      ]
    },
    {
      "cell_type": "code",
      "metadata": {
        "id": "pw7w9nfHKPIK"
      },
      "source": [
        "#take a look at the content of the 'headline_text' column\n",
        "data_text = data[['headline_text']]"
      ],
      "execution_count": 4,
      "outputs": []
    },
    {
      "cell_type": "code",
      "metadata": {
        "colab": {
          "base_uri": "https://localhost:8080/",
          "height": 424
        },
        "id": "KUnmXx8YKPIL",
        "outputId": "e420b596-2e16-41f6-c384-b0ef6258ea4b"
      },
      "source": [
        "data_text"
      ],
      "execution_count": 5,
      "outputs": [
        {
          "output_type": "execute_result",
          "data": {
            "text/plain": [
              "                                             headline_text\n",
              "0        aba decides against community broadcasting lic...\n",
              "1           act fire witnesses must be aware of defamation\n",
              "2           a g calls for infrastructure protection summit\n",
              "3                 air nz staff in aust strike for pay rise\n",
              "4            air nz strike to affect australian travellers\n",
              "...                                                    ...\n",
              "1041788           who was alphabay founder alexandre cazes\n",
              "1041789  wolfe brothers berry farming country music in ...\n",
              "1041790  wollongong refugee ramps up liberian charity work\n",
              "1041791  women choosing diy ivf sperm inseminsation to ...\n",
              "1041792  young archie 2017 portraits shows australia ar...\n",
              "\n",
              "[1041793 rows x 1 columns]"
            ],
            "text/html": [
              "\n",
              "  <div id=\"df-04911240-68cb-4ea3-970b-3d755c78ebeb\" class=\"colab-df-container\">\n",
              "    <div>\n",
              "<style scoped>\n",
              "    .dataframe tbody tr th:only-of-type {\n",
              "        vertical-align: middle;\n",
              "    }\n",
              "\n",
              "    .dataframe tbody tr th {\n",
              "        vertical-align: top;\n",
              "    }\n",
              "\n",
              "    .dataframe thead th {\n",
              "        text-align: right;\n",
              "    }\n",
              "</style>\n",
              "<table border=\"1\" class=\"dataframe\">\n",
              "  <thead>\n",
              "    <tr style=\"text-align: right;\">\n",
              "      <th></th>\n",
              "      <th>headline_text</th>\n",
              "    </tr>\n",
              "  </thead>\n",
              "  <tbody>\n",
              "    <tr>\n",
              "      <th>0</th>\n",
              "      <td>aba decides against community broadcasting lic...</td>\n",
              "    </tr>\n",
              "    <tr>\n",
              "      <th>1</th>\n",
              "      <td>act fire witnesses must be aware of defamation</td>\n",
              "    </tr>\n",
              "    <tr>\n",
              "      <th>2</th>\n",
              "      <td>a g calls for infrastructure protection summit</td>\n",
              "    </tr>\n",
              "    <tr>\n",
              "      <th>3</th>\n",
              "      <td>air nz staff in aust strike for pay rise</td>\n",
              "    </tr>\n",
              "    <tr>\n",
              "      <th>4</th>\n",
              "      <td>air nz strike to affect australian travellers</td>\n",
              "    </tr>\n",
              "    <tr>\n",
              "      <th>...</th>\n",
              "      <td>...</td>\n",
              "    </tr>\n",
              "    <tr>\n",
              "      <th>1041788</th>\n",
              "      <td>who was alphabay founder alexandre cazes</td>\n",
              "    </tr>\n",
              "    <tr>\n",
              "      <th>1041789</th>\n",
              "      <td>wolfe brothers berry farming country music in ...</td>\n",
              "    </tr>\n",
              "    <tr>\n",
              "      <th>1041790</th>\n",
              "      <td>wollongong refugee ramps up liberian charity work</td>\n",
              "    </tr>\n",
              "    <tr>\n",
              "      <th>1041791</th>\n",
              "      <td>women choosing diy ivf sperm inseminsation to ...</td>\n",
              "    </tr>\n",
              "    <tr>\n",
              "      <th>1041792</th>\n",
              "      <td>young archie 2017 portraits shows australia ar...</td>\n",
              "    </tr>\n",
              "  </tbody>\n",
              "</table>\n",
              "<p>1041793 rows × 1 columns</p>\n",
              "</div>\n",
              "    <div class=\"colab-df-buttons\">\n",
              "\n",
              "  <div class=\"colab-df-container\">\n",
              "    <button class=\"colab-df-convert\" onclick=\"convertToInteractive('df-04911240-68cb-4ea3-970b-3d755c78ebeb')\"\n",
              "            title=\"Convert this dataframe to an interactive table.\"\n",
              "            style=\"display:none;\">\n",
              "\n",
              "  <svg xmlns=\"http://www.w3.org/2000/svg\" height=\"24px\" viewBox=\"0 -960 960 960\">\n",
              "    <path d=\"M120-120v-720h720v720H120Zm60-500h600v-160H180v160Zm220 220h160v-160H400v160Zm0 220h160v-160H400v160ZM180-400h160v-160H180v160Zm440 0h160v-160H620v160ZM180-180h160v-160H180v160Zm440 0h160v-160H620v160Z\"/>\n",
              "  </svg>\n",
              "    </button>\n",
              "\n",
              "  <style>\n",
              "    .colab-df-container {\n",
              "      display:flex;\n",
              "      gap: 12px;\n",
              "    }\n",
              "\n",
              "    .colab-df-convert {\n",
              "      background-color: #E8F0FE;\n",
              "      border: none;\n",
              "      border-radius: 50%;\n",
              "      cursor: pointer;\n",
              "      display: none;\n",
              "      fill: #1967D2;\n",
              "      height: 32px;\n",
              "      padding: 0 0 0 0;\n",
              "      width: 32px;\n",
              "    }\n",
              "\n",
              "    .colab-df-convert:hover {\n",
              "      background-color: #E2EBFA;\n",
              "      box-shadow: 0px 1px 2px rgba(60, 64, 67, 0.3), 0px 1px 3px 1px rgba(60, 64, 67, 0.15);\n",
              "      fill: #174EA6;\n",
              "    }\n",
              "\n",
              "    .colab-df-buttons div {\n",
              "      margin-bottom: 4px;\n",
              "    }\n",
              "\n",
              "    [theme=dark] .colab-df-convert {\n",
              "      background-color: #3B4455;\n",
              "      fill: #D2E3FC;\n",
              "    }\n",
              "\n",
              "    [theme=dark] .colab-df-convert:hover {\n",
              "      background-color: #434B5C;\n",
              "      box-shadow: 0px 1px 3px 1px rgba(0, 0, 0, 0.15);\n",
              "      filter: drop-shadow(0px 1px 2px rgba(0, 0, 0, 0.3));\n",
              "      fill: #FFFFFF;\n",
              "    }\n",
              "  </style>\n",
              "\n",
              "    <script>\n",
              "      const buttonEl =\n",
              "        document.querySelector('#df-04911240-68cb-4ea3-970b-3d755c78ebeb button.colab-df-convert');\n",
              "      buttonEl.style.display =\n",
              "        google.colab.kernel.accessAllowed ? 'block' : 'none';\n",
              "\n",
              "      async function convertToInteractive(key) {\n",
              "        const element = document.querySelector('#df-04911240-68cb-4ea3-970b-3d755c78ebeb');\n",
              "        const dataTable =\n",
              "          await google.colab.kernel.invokeFunction('convertToInteractive',\n",
              "                                                    [key], {});\n",
              "        if (!dataTable) return;\n",
              "\n",
              "        const docLinkHtml = 'Like what you see? Visit the ' +\n",
              "          '<a target=\"_blank\" href=https://colab.research.google.com/notebooks/data_table.ipynb>data table notebook</a>'\n",
              "          + ' to learn more about interactive tables.';\n",
              "        element.innerHTML = '';\n",
              "        dataTable['output_type'] = 'display_data';\n",
              "        await google.colab.output.renderOutput(dataTable, element);\n",
              "        const docLink = document.createElement('div');\n",
              "        docLink.innerHTML = docLinkHtml;\n",
              "        element.appendChild(docLink);\n",
              "      }\n",
              "    </script>\n",
              "  </div>\n",
              "\n",
              "\n",
              "<div id=\"df-99095657-3869-4419-8d6c-a4f5eb2c4736\">\n",
              "  <button class=\"colab-df-quickchart\" onclick=\"quickchart('df-99095657-3869-4419-8d6c-a4f5eb2c4736')\"\n",
              "            title=\"Suggest charts.\"\n",
              "            style=\"display:none;\">\n",
              "\n",
              "<svg xmlns=\"http://www.w3.org/2000/svg\" height=\"24px\"viewBox=\"0 0 24 24\"\n",
              "     width=\"24px\">\n",
              "    <g>\n",
              "        <path d=\"M19 3H5c-1.1 0-2 .9-2 2v14c0 1.1.9 2 2 2h14c1.1 0 2-.9 2-2V5c0-1.1-.9-2-2-2zM9 17H7v-7h2v7zm4 0h-2V7h2v10zm4 0h-2v-4h2v4z\"/>\n",
              "    </g>\n",
              "</svg>\n",
              "  </button>\n",
              "\n",
              "<style>\n",
              "  .colab-df-quickchart {\n",
              "      --bg-color: #E8F0FE;\n",
              "      --fill-color: #1967D2;\n",
              "      --hover-bg-color: #E2EBFA;\n",
              "      --hover-fill-color: #174EA6;\n",
              "      --disabled-fill-color: #AAA;\n",
              "      --disabled-bg-color: #DDD;\n",
              "  }\n",
              "\n",
              "  [theme=dark] .colab-df-quickchart {\n",
              "      --bg-color: #3B4455;\n",
              "      --fill-color: #D2E3FC;\n",
              "      --hover-bg-color: #434B5C;\n",
              "      --hover-fill-color: #FFFFFF;\n",
              "      --disabled-bg-color: #3B4455;\n",
              "      --disabled-fill-color: #666;\n",
              "  }\n",
              "\n",
              "  .colab-df-quickchart {\n",
              "    background-color: var(--bg-color);\n",
              "    border: none;\n",
              "    border-radius: 50%;\n",
              "    cursor: pointer;\n",
              "    display: none;\n",
              "    fill: var(--fill-color);\n",
              "    height: 32px;\n",
              "    padding: 0;\n",
              "    width: 32px;\n",
              "  }\n",
              "\n",
              "  .colab-df-quickchart:hover {\n",
              "    background-color: var(--hover-bg-color);\n",
              "    box-shadow: 0 1px 2px rgba(60, 64, 67, 0.3), 0 1px 3px 1px rgba(60, 64, 67, 0.15);\n",
              "    fill: var(--button-hover-fill-color);\n",
              "  }\n",
              "\n",
              "  .colab-df-quickchart-complete:disabled,\n",
              "  .colab-df-quickchart-complete:disabled:hover {\n",
              "    background-color: var(--disabled-bg-color);\n",
              "    fill: var(--disabled-fill-color);\n",
              "    box-shadow: none;\n",
              "  }\n",
              "\n",
              "  .colab-df-spinner {\n",
              "    border: 2px solid var(--fill-color);\n",
              "    border-color: transparent;\n",
              "    border-bottom-color: var(--fill-color);\n",
              "    animation:\n",
              "      spin 1s steps(1) infinite;\n",
              "  }\n",
              "\n",
              "  @keyframes spin {\n",
              "    0% {\n",
              "      border-color: transparent;\n",
              "      border-bottom-color: var(--fill-color);\n",
              "      border-left-color: var(--fill-color);\n",
              "    }\n",
              "    20% {\n",
              "      border-color: transparent;\n",
              "      border-left-color: var(--fill-color);\n",
              "      border-top-color: var(--fill-color);\n",
              "    }\n",
              "    30% {\n",
              "      border-color: transparent;\n",
              "      border-left-color: var(--fill-color);\n",
              "      border-top-color: var(--fill-color);\n",
              "      border-right-color: var(--fill-color);\n",
              "    }\n",
              "    40% {\n",
              "      border-color: transparent;\n",
              "      border-right-color: var(--fill-color);\n",
              "      border-top-color: var(--fill-color);\n",
              "    }\n",
              "    60% {\n",
              "      border-color: transparent;\n",
              "      border-right-color: var(--fill-color);\n",
              "    }\n",
              "    80% {\n",
              "      border-color: transparent;\n",
              "      border-right-color: var(--fill-color);\n",
              "      border-bottom-color: var(--fill-color);\n",
              "    }\n",
              "    90% {\n",
              "      border-color: transparent;\n",
              "      border-bottom-color: var(--fill-color);\n",
              "    }\n",
              "  }\n",
              "</style>\n",
              "\n",
              "  <script>\n",
              "    async function quickchart(key) {\n",
              "      const quickchartButtonEl =\n",
              "        document.querySelector('#' + key + ' button');\n",
              "      quickchartButtonEl.disabled = true;  // To prevent multiple clicks.\n",
              "      quickchartButtonEl.classList.add('colab-df-spinner');\n",
              "      try {\n",
              "        const charts = await google.colab.kernel.invokeFunction(\n",
              "            'suggestCharts', [key], {});\n",
              "      } catch (error) {\n",
              "        console.error('Error during call to suggestCharts:', error);\n",
              "      }\n",
              "      quickchartButtonEl.classList.remove('colab-df-spinner');\n",
              "      quickchartButtonEl.classList.add('colab-df-quickchart-complete');\n",
              "    }\n",
              "    (() => {\n",
              "      let quickchartButtonEl =\n",
              "        document.querySelector('#df-99095657-3869-4419-8d6c-a4f5eb2c4736 button');\n",
              "      quickchartButtonEl.style.display =\n",
              "        google.colab.kernel.accessAllowed ? 'block' : 'none';\n",
              "    })();\n",
              "  </script>\n",
              "</div>\n",
              "    </div>\n",
              "  </div>\n"
            ]
          },
          "metadata": {},
          "execution_count": 5
        }
      ]
    },
    {
      "cell_type": "code",
      "metadata": {
        "colab": {
          "base_uri": "https://localhost:8080/"
        },
        "id": "ylFYpPFuKPIL",
        "outputId": "3af21cb4-4538-40c4-a66a-2bff2651a94b"
      },
      "source": [
        "#add a column to data_text for the row index\n",
        "data_text['index'] = data_text.index"
      ],
      "execution_count": 6,
      "outputs": [
        {
          "output_type": "stream",
          "name": "stderr",
          "text": [
            "<ipython-input-6-549887a198c5>:2: SettingWithCopyWarning: \n",
            "A value is trying to be set on a copy of a slice from a DataFrame.\n",
            "Try using .loc[row_indexer,col_indexer] = value instead\n",
            "\n",
            "See the caveats in the documentation: https://pandas.pydata.org/pandas-docs/stable/user_guide/indexing.html#returning-a-view-versus-a-copy\n",
            "  data_text['index'] = data_text.index\n"
          ]
        }
      ]
    },
    {
      "cell_type": "code",
      "metadata": {
        "colab": {
          "base_uri": "https://localhost:8080/"
        },
        "id": "VCaS9P8eKPIM",
        "outputId": "663bbb8e-2bbd-4c80-f7be-b0b35ab95d9a"
      },
      "source": [
        "len(data_text)"
      ],
      "execution_count": 7,
      "outputs": [
        {
          "output_type": "execute_result",
          "data": {
            "text/plain": [
              "1041793"
            ]
          },
          "metadata": {},
          "execution_count": 7
        }
      ]
    },
    {
      "cell_type": "code",
      "source": [
        "data_sample = data_text[data_text['index'] == 4310]\n",
        "data_sample"
      ],
      "metadata": {
        "colab": {
          "base_uri": "https://localhost:8080/",
          "height": 81
        },
        "id": "UEgxImAXbnDU",
        "outputId": "fdc7a2e9-daf7-4958-cec3-cb6bdacf4fc2"
      },
      "execution_count": 8,
      "outputs": [
        {
          "output_type": "execute_result",
          "data": {
            "text/plain": [
              "                    headline_text  index\n",
              "4310  rain helps dampen bushfires   4310"
            ],
            "text/html": [
              "\n",
              "  <div id=\"df-3fac0de9-87fc-44ee-9c8a-4872a5411048\" class=\"colab-df-container\">\n",
              "    <div>\n",
              "<style scoped>\n",
              "    .dataframe tbody tr th:only-of-type {\n",
              "        vertical-align: middle;\n",
              "    }\n",
              "\n",
              "    .dataframe tbody tr th {\n",
              "        vertical-align: top;\n",
              "    }\n",
              "\n",
              "    .dataframe thead th {\n",
              "        text-align: right;\n",
              "    }\n",
              "</style>\n",
              "<table border=\"1\" class=\"dataframe\">\n",
              "  <thead>\n",
              "    <tr style=\"text-align: right;\">\n",
              "      <th></th>\n",
              "      <th>headline_text</th>\n",
              "      <th>index</th>\n",
              "    </tr>\n",
              "  </thead>\n",
              "  <tbody>\n",
              "    <tr>\n",
              "      <th>4310</th>\n",
              "      <td>rain helps dampen bushfires</td>\n",
              "      <td>4310</td>\n",
              "    </tr>\n",
              "  </tbody>\n",
              "</table>\n",
              "</div>\n",
              "    <div class=\"colab-df-buttons\">\n",
              "\n",
              "  <div class=\"colab-df-container\">\n",
              "    <button class=\"colab-df-convert\" onclick=\"convertToInteractive('df-3fac0de9-87fc-44ee-9c8a-4872a5411048')\"\n",
              "            title=\"Convert this dataframe to an interactive table.\"\n",
              "            style=\"display:none;\">\n",
              "\n",
              "  <svg xmlns=\"http://www.w3.org/2000/svg\" height=\"24px\" viewBox=\"0 -960 960 960\">\n",
              "    <path d=\"M120-120v-720h720v720H120Zm60-500h600v-160H180v160Zm220 220h160v-160H400v160Zm0 220h160v-160H400v160ZM180-400h160v-160H180v160Zm440 0h160v-160H620v160ZM180-180h160v-160H180v160Zm440 0h160v-160H620v160Z\"/>\n",
              "  </svg>\n",
              "    </button>\n",
              "\n",
              "  <style>\n",
              "    .colab-df-container {\n",
              "      display:flex;\n",
              "      gap: 12px;\n",
              "    }\n",
              "\n",
              "    .colab-df-convert {\n",
              "      background-color: #E8F0FE;\n",
              "      border: none;\n",
              "      border-radius: 50%;\n",
              "      cursor: pointer;\n",
              "      display: none;\n",
              "      fill: #1967D2;\n",
              "      height: 32px;\n",
              "      padding: 0 0 0 0;\n",
              "      width: 32px;\n",
              "    }\n",
              "\n",
              "    .colab-df-convert:hover {\n",
              "      background-color: #E2EBFA;\n",
              "      box-shadow: 0px 1px 2px rgba(60, 64, 67, 0.3), 0px 1px 3px 1px rgba(60, 64, 67, 0.15);\n",
              "      fill: #174EA6;\n",
              "    }\n",
              "\n",
              "    .colab-df-buttons div {\n",
              "      margin-bottom: 4px;\n",
              "    }\n",
              "\n",
              "    [theme=dark] .colab-df-convert {\n",
              "      background-color: #3B4455;\n",
              "      fill: #D2E3FC;\n",
              "    }\n",
              "\n",
              "    [theme=dark] .colab-df-convert:hover {\n",
              "      background-color: #434B5C;\n",
              "      box-shadow: 0px 1px 3px 1px rgba(0, 0, 0, 0.15);\n",
              "      filter: drop-shadow(0px 1px 2px rgba(0, 0, 0, 0.3));\n",
              "      fill: #FFFFFF;\n",
              "    }\n",
              "  </style>\n",
              "\n",
              "    <script>\n",
              "      const buttonEl =\n",
              "        document.querySelector('#df-3fac0de9-87fc-44ee-9c8a-4872a5411048 button.colab-df-convert');\n",
              "      buttonEl.style.display =\n",
              "        google.colab.kernel.accessAllowed ? 'block' : 'none';\n",
              "\n",
              "      async function convertToInteractive(key) {\n",
              "        const element = document.querySelector('#df-3fac0de9-87fc-44ee-9c8a-4872a5411048');\n",
              "        const dataTable =\n",
              "          await google.colab.kernel.invokeFunction('convertToInteractive',\n",
              "                                                    [key], {});\n",
              "        if (!dataTable) return;\n",
              "\n",
              "        const docLinkHtml = 'Like what you see? Visit the ' +\n",
              "          '<a target=\"_blank\" href=https://colab.research.google.com/notebooks/data_table.ipynb>data table notebook</a>'\n",
              "          + ' to learn more about interactive tables.';\n",
              "        element.innerHTML = '';\n",
              "        dataTable['output_type'] = 'display_data';\n",
              "        await google.colab.output.renderOutput(dataTable, element);\n",
              "        const docLink = document.createElement('div');\n",
              "        docLink.innerHTML = docLinkHtml;\n",
              "        element.appendChild(docLink);\n",
              "      }\n",
              "    </script>\n",
              "  </div>\n",
              "\n",
              "    </div>\n",
              "  </div>\n"
            ]
          },
          "metadata": {},
          "execution_count": 8
        }
      ]
    },
    {
      "cell_type": "code",
      "metadata": {
        "id": "t6syO3EnKPIN"
      },
      "source": [
        "#take a look at the content of a document with Index# 4310; data_sample is a dataframe. [0][0] is to extract the value of the first row and the first column\n",
        "doc_sample = data_sample.values[0][0]"
      ],
      "execution_count": 39,
      "outputs": []
    },
    {
      "cell_type": "code",
      "metadata": {
        "colab": {
          "base_uri": "https://localhost:8080/",
          "height": 35
        },
        "id": "eu-s0zlFKPIO",
        "outputId": "e83360e9-f5a7-44c9-895a-250188c48d9c"
      },
      "source": [
        "doc_sample"
      ],
      "execution_count": 40,
      "outputs": [
        {
          "output_type": "execute_result",
          "data": {
            "text/plain": [
              "'rain helps dampen bushfires'"
            ],
            "application/vnd.google.colaboratory.intrinsic+json": {
              "type": "string"
            }
          },
          "metadata": {},
          "execution_count": 40
        }
      ]
    },
    {
      "cell_type": "code",
      "metadata": {
        "id": "KCuVROYFKPIQ"
      },
      "source": [
        "#We will perform the following steps:\n",
        " #Tokenization: Split the text into sentences and the sentences into words. Lowercase the words and remove punctuation.\n",
        " #Words that have fewer than 3 characters are removed.\n",
        " #All stopwords are removed.\n",
        " #Words are lemmatized — verbs in third person are changed to first person and verbs in past and future tenses are changed into present.\n",
        " #Words are stemmed — words are reduced to their root form.\n",
        "\n",
        "\n",
        "#import relvant packages for conduct topic modeling analysis\n",
        "import gensim\n",
        "from gensim.utils import simple_preprocess\n",
        "from gensim.parsing.preprocessing import STOPWORDS\n",
        "from nltk.stem import WordNetLemmatizer, SnowballStemmer\n",
        "from nltk.stem.porter import *\n",
        "import numpy as np\n"
      ],
      "execution_count": 11,
      "outputs": []
    },
    {
      "cell_type": "code",
      "metadata": {
        "id": "4ODpLoQjKPIR"
      },
      "source": [
        "from nltk.stem import*\n",
        "stemmer = PorterStemmer()"
      ],
      "execution_count": 17,
      "outputs": []
    },
    {
      "cell_type": "code",
      "source": [
        "len(gensim.parsing.preprocessing.STOPWORDS)"
      ],
      "metadata": {
        "colab": {
          "base_uri": "https://localhost:8080/"
        },
        "id": "JHkDcu5uftJ3",
        "outputId": "f2860627-b18e-4ee9-fdfe-18ced2e253fd"
      },
      "execution_count": 12,
      "outputs": [
        {
          "output_type": "execute_result",
          "data": {
            "text/plain": [
              "337"
            ]
          },
          "metadata": {},
          "execution_count": 12
        }
      ]
    },
    {
      "cell_type": "code",
      "source": [
        "gensim.parsing.preprocessing.STOPWORDS"
      ],
      "metadata": {
        "colab": {
          "base_uri": "https://localhost:8080/"
        },
        "id": "EU-YwLfWeD_s",
        "outputId": "63f776bb-78ce-45e9-ca28-abe9e548ec29"
      },
      "execution_count": 13,
      "outputs": [
        {
          "output_type": "execute_result",
          "data": {
            "text/plain": [
              "frozenset({'a',\n",
              "           'about',\n",
              "           'above',\n",
              "           'across',\n",
              "           'after',\n",
              "           'afterwards',\n",
              "           'again',\n",
              "           'against',\n",
              "           'all',\n",
              "           'almost',\n",
              "           'alone',\n",
              "           'along',\n",
              "           'already',\n",
              "           'also',\n",
              "           'although',\n",
              "           'always',\n",
              "           'am',\n",
              "           'among',\n",
              "           'amongst',\n",
              "           'amoungst',\n",
              "           'amount',\n",
              "           'an',\n",
              "           'and',\n",
              "           'another',\n",
              "           'any',\n",
              "           'anyhow',\n",
              "           'anyone',\n",
              "           'anything',\n",
              "           'anyway',\n",
              "           'anywhere',\n",
              "           'are',\n",
              "           'around',\n",
              "           'as',\n",
              "           'at',\n",
              "           'back',\n",
              "           'be',\n",
              "           'became',\n",
              "           'because',\n",
              "           'become',\n",
              "           'becomes',\n",
              "           'becoming',\n",
              "           'been',\n",
              "           'before',\n",
              "           'beforehand',\n",
              "           'behind',\n",
              "           'being',\n",
              "           'below',\n",
              "           'beside',\n",
              "           'besides',\n",
              "           'between',\n",
              "           'beyond',\n",
              "           'bill',\n",
              "           'both',\n",
              "           'bottom',\n",
              "           'but',\n",
              "           'by',\n",
              "           'call',\n",
              "           'can',\n",
              "           'cannot',\n",
              "           'cant',\n",
              "           'co',\n",
              "           'computer',\n",
              "           'con',\n",
              "           'could',\n",
              "           'couldnt',\n",
              "           'cry',\n",
              "           'de',\n",
              "           'describe',\n",
              "           'detail',\n",
              "           'did',\n",
              "           'didn',\n",
              "           'do',\n",
              "           'does',\n",
              "           'doesn',\n",
              "           'doing',\n",
              "           'don',\n",
              "           'done',\n",
              "           'down',\n",
              "           'due',\n",
              "           'during',\n",
              "           'each',\n",
              "           'eg',\n",
              "           'eight',\n",
              "           'either',\n",
              "           'eleven',\n",
              "           'else',\n",
              "           'elsewhere',\n",
              "           'empty',\n",
              "           'enough',\n",
              "           'etc',\n",
              "           'even',\n",
              "           'ever',\n",
              "           'every',\n",
              "           'everyone',\n",
              "           'everything',\n",
              "           'everywhere',\n",
              "           'except',\n",
              "           'few',\n",
              "           'fifteen',\n",
              "           'fifty',\n",
              "           'fill',\n",
              "           'find',\n",
              "           'fire',\n",
              "           'first',\n",
              "           'five',\n",
              "           'for',\n",
              "           'former',\n",
              "           'formerly',\n",
              "           'forty',\n",
              "           'found',\n",
              "           'four',\n",
              "           'from',\n",
              "           'front',\n",
              "           'full',\n",
              "           'further',\n",
              "           'get',\n",
              "           'give',\n",
              "           'go',\n",
              "           'had',\n",
              "           'has',\n",
              "           'hasnt',\n",
              "           'have',\n",
              "           'he',\n",
              "           'hence',\n",
              "           'her',\n",
              "           'here',\n",
              "           'hereafter',\n",
              "           'hereby',\n",
              "           'herein',\n",
              "           'hereupon',\n",
              "           'hers',\n",
              "           'herself',\n",
              "           'him',\n",
              "           'himself',\n",
              "           'his',\n",
              "           'how',\n",
              "           'however',\n",
              "           'hundred',\n",
              "           'i',\n",
              "           'ie',\n",
              "           'if',\n",
              "           'in',\n",
              "           'inc',\n",
              "           'indeed',\n",
              "           'interest',\n",
              "           'into',\n",
              "           'is',\n",
              "           'it',\n",
              "           'its',\n",
              "           'itself',\n",
              "           'just',\n",
              "           'keep',\n",
              "           'kg',\n",
              "           'km',\n",
              "           'last',\n",
              "           'latter',\n",
              "           'latterly',\n",
              "           'least',\n",
              "           'less',\n",
              "           'ltd',\n",
              "           'made',\n",
              "           'make',\n",
              "           'many',\n",
              "           'may',\n",
              "           'me',\n",
              "           'meanwhile',\n",
              "           'might',\n",
              "           'mill',\n",
              "           'mine',\n",
              "           'more',\n",
              "           'moreover',\n",
              "           'most',\n",
              "           'mostly',\n",
              "           'move',\n",
              "           'much',\n",
              "           'must',\n",
              "           'my',\n",
              "           'myself',\n",
              "           'name',\n",
              "           'namely',\n",
              "           'neither',\n",
              "           'never',\n",
              "           'nevertheless',\n",
              "           'next',\n",
              "           'nine',\n",
              "           'no',\n",
              "           'nobody',\n",
              "           'none',\n",
              "           'noone',\n",
              "           'nor',\n",
              "           'not',\n",
              "           'nothing',\n",
              "           'now',\n",
              "           'nowhere',\n",
              "           'of',\n",
              "           'off',\n",
              "           'often',\n",
              "           'on',\n",
              "           'once',\n",
              "           'one',\n",
              "           'only',\n",
              "           'onto',\n",
              "           'or',\n",
              "           'other',\n",
              "           'others',\n",
              "           'otherwise',\n",
              "           'our',\n",
              "           'ours',\n",
              "           'ourselves',\n",
              "           'out',\n",
              "           'over',\n",
              "           'own',\n",
              "           'part',\n",
              "           'per',\n",
              "           'perhaps',\n",
              "           'please',\n",
              "           'put',\n",
              "           'quite',\n",
              "           'rather',\n",
              "           're',\n",
              "           'really',\n",
              "           'regarding',\n",
              "           'same',\n",
              "           'say',\n",
              "           'see',\n",
              "           'seem',\n",
              "           'seemed',\n",
              "           'seeming',\n",
              "           'seems',\n",
              "           'serious',\n",
              "           'several',\n",
              "           'she',\n",
              "           'should',\n",
              "           'show',\n",
              "           'side',\n",
              "           'since',\n",
              "           'sincere',\n",
              "           'six',\n",
              "           'sixty',\n",
              "           'so',\n",
              "           'some',\n",
              "           'somehow',\n",
              "           'someone',\n",
              "           'something',\n",
              "           'sometime',\n",
              "           'sometimes',\n",
              "           'somewhere',\n",
              "           'still',\n",
              "           'such',\n",
              "           'system',\n",
              "           'take',\n",
              "           'ten',\n",
              "           'than',\n",
              "           'that',\n",
              "           'the',\n",
              "           'their',\n",
              "           'them',\n",
              "           'themselves',\n",
              "           'then',\n",
              "           'thence',\n",
              "           'there',\n",
              "           'thereafter',\n",
              "           'thereby',\n",
              "           'therefore',\n",
              "           'therein',\n",
              "           'thereupon',\n",
              "           'these',\n",
              "           'they',\n",
              "           'thick',\n",
              "           'thin',\n",
              "           'third',\n",
              "           'this',\n",
              "           'those',\n",
              "           'though',\n",
              "           'three',\n",
              "           'through',\n",
              "           'throughout',\n",
              "           'thru',\n",
              "           'thus',\n",
              "           'to',\n",
              "           'together',\n",
              "           'too',\n",
              "           'top',\n",
              "           'toward',\n",
              "           'towards',\n",
              "           'twelve',\n",
              "           'twenty',\n",
              "           'two',\n",
              "           'un',\n",
              "           'under',\n",
              "           'unless',\n",
              "           'until',\n",
              "           'up',\n",
              "           'upon',\n",
              "           'us',\n",
              "           'used',\n",
              "           'using',\n",
              "           'various',\n",
              "           'very',\n",
              "           'via',\n",
              "           'was',\n",
              "           'we',\n",
              "           'well',\n",
              "           'were',\n",
              "           'what',\n",
              "           'whatever',\n",
              "           'when',\n",
              "           'whence',\n",
              "           'whenever',\n",
              "           'where',\n",
              "           'whereafter',\n",
              "           'whereas',\n",
              "           'whereby',\n",
              "           'wherein',\n",
              "           'whereupon',\n",
              "           'wherever',\n",
              "           'whether',\n",
              "           'which',\n",
              "           'while',\n",
              "           'whither',\n",
              "           'who',\n",
              "           'whoever',\n",
              "           'whole',\n",
              "           'whom',\n",
              "           'whose',\n",
              "           'why',\n",
              "           'will',\n",
              "           'with',\n",
              "           'within',\n",
              "           'without',\n",
              "           'would',\n",
              "           'yet',\n",
              "           'you',\n",
              "           'your',\n",
              "           'yours',\n",
              "           'yourself',\n",
              "           'yourselves'})"
            ]
          },
          "metadata": {},
          "execution_count": 13
        }
      ]
    },
    {
      "cell_type": "code",
      "metadata": {
        "id": "Pf_Ib6moKPIR"
      },
      "source": [
        "#a function to perform lemmatize and stem preprocessing steps on the data set. Without contextual information the lemmatiser’s not able to distinguish between nouns and verbs. In this case, \"pos = 'v'\" means treat the words as verbs.\n",
        "\n",
        "def lemmatize_stemming(text):\n",
        "    return stemmer.stem(WordNetLemmatizer().lemmatize(text, pos='v'))\n",
        "\n",
        "def preprocess(text):\n",
        "    result = []\n",
        "    for token in gensim.utils.simple_preprocess(text):\n",
        "        if token not in gensim.parsing.preprocessing.STOPWORDS and len(token) > 3:\n",
        "            result.append(lemmatize_stemming(token))\n",
        "    return result"
      ],
      "execution_count": 14,
      "outputs": []
    },
    {
      "cell_type": "markdown",
      "source": [],
      "metadata": {
        "id": "DZZnd3pQfx0-"
      }
    },
    {
      "cell_type": "code",
      "metadata": {
        "id": "tag131jeKPIR"
      },
      "source": [
        "#remove na values from the column 'headline_text'\n",
        "data_text = data_text.dropna(subset=['headline_text'])"
      ],
      "execution_count": 15,
      "outputs": []
    },
    {
      "cell_type": "code",
      "metadata": {
        "colab": {
          "base_uri": "https://localhost:8080/"
        },
        "id": "6aXJ69PuKPIS",
        "outputId": "7153a2a9-11d9-4aab-b665-86e07e90618d"
      },
      "source": [
        "#select a document to preview after preprocessing\n",
        "import nltk\n",
        "nltk.download('wordnet')\n",
        "nltk.download('omw-1.4')\n",
        "\n",
        "words = []\n",
        "for word in doc_sample.split(' '):\n",
        "    words.append(word)\n",
        "print(words)\n",
        "print('\\n\\n tokenized and lemmatized document: ')\n",
        "print(preprocess(doc_sample))"
      ],
      "execution_count": 18,
      "outputs": [
        {
          "output_type": "stream",
          "name": "stderr",
          "text": [
            "[nltk_data] Downloading package wordnet to /root/nltk_data...\n",
            "[nltk_data]   Package wordnet is already up-to-date!\n",
            "[nltk_data] Downloading package omw-1.4 to /root/nltk_data...\n",
            "[nltk_data]   Package omw-1.4 is already up-to-date!\n"
          ]
        },
        {
          "output_type": "stream",
          "name": "stdout",
          "text": [
            "['rain', 'helps', 'dampen', 'bushfires']\n",
            "\n",
            "\n",
            " tokenized and lemmatized document: \n",
            "['rain', 'help', 'dampen', 'bushfir']\n"
          ]
        }
      ]
    },
    {
      "cell_type": "code",
      "metadata": {
        "colab": {
          "base_uri": "https://localhost:8080/"
        },
        "id": "BcFvQzUWKPIS",
        "outputId": "851c3c65-dd30-45b2-faec-6c4d8e483b80"
      },
      "source": [
        "#preprocess'headline_text', save the results as 'processed_docs'\n",
        "processed_docs = data_text['headline_text'].map(preprocess)\n",
        "processed_docs[:10]"
      ],
      "execution_count": 19,
      "outputs": [
        {
          "output_type": "execute_result",
          "data": {
            "text/plain": [
              "0               [decid, commun, broadcast, licenc]\n",
              "1                               [wit, awar, defam]\n",
              "2           [call, infrastructur, protect, summit]\n",
              "3                      [staff, aust, strike, rise]\n",
              "4             [strike, affect, australian, travel]\n",
              "5               [ambiti, olsson, win, tripl, jump]\n",
              "6           [antic, delight, record, break, barca]\n",
              "7    [aussi, qualifi, stosur, wast, memphi, match]\n",
              "8            [aust, address, secur, council, iraq]\n",
              "9                         [australia, lock, timet]\n",
              "Name: headline_text, dtype: object"
            ]
          },
          "metadata": {},
          "execution_count": 19
        }
      ]
    },
    {
      "cell_type": "code",
      "metadata": {
        "id": "dss7gmRYKPIT"
      },
      "source": [
        "#create a dictionary from ‘processed_docs’ containing the number of times a word appears in the document set\n",
        "dictionary = gensim.corpora.Dictionary(processed_docs)"
      ],
      "execution_count": 20,
      "outputs": []
    },
    {
      "cell_type": "code",
      "metadata": {
        "id": "DvpM_kWIKPIT"
      },
      "source": [
        "#Filter out tokens that appear in\n",
        " #less than 15 documents (absolute number) or\n",
        " #more than 0.5 documents (fraction of total corpus size, not absolute number).\n",
        " #after the above two steps, keep only the first 100000 most frequent tokens.\n",
        "\n",
        "dictionary.filter_extremes(no_below=15, no_above=0.5, keep_n=100000)"
      ],
      "execution_count": 21,
      "outputs": []
    },
    {
      "cell_type": "code",
      "metadata": {
        "colab": {
          "base_uri": "https://localhost:8080/"
        },
        "id": "2aGIzP47KPIU",
        "outputId": "f9ba7932-9253-43a0-f2c7-75e04a4ed467"
      },
      "source": [
        "#For each document we create a dictionary reporting how many\n",
        "#words and how many times those words appear. Save this to ‘bow_corpus’, then check our selected document earlier.\n",
        "\n",
        "bow_corpus = [dictionary.doc2bow(doc) for doc in processed_docs]\n",
        "bow_corpus[4310]"
      ],
      "execution_count": 22,
      "outputs": [
        {
          "output_type": "execute_result",
          "data": {
            "text/plain": [
              "[(76, 1), (112, 1), (483, 1), (4005, 1)]"
            ]
          },
          "metadata": {},
          "execution_count": 22
        }
      ]
    },
    {
      "cell_type": "code",
      "metadata": {
        "colab": {
          "base_uri": "https://localhost:8080/"
        },
        "id": "UFVmC_mBKPIU",
        "outputId": "196766ed-ea52-4ddc-805c-781df669cab2"
      },
      "source": [
        "bow_doc_4310 = bow_corpus[4310]\n",
        "for i in range(len(bow_doc_4310)):\n",
        "    print(\"Word {} (\\\"{}\\\") appears {} time.\".format(bow_doc_4310[i][0], dictionary[bow_doc_4310[i][0]], bow_doc_4310[i][1]))"
      ],
      "execution_count": 23,
      "outputs": [
        {
          "output_type": "stream",
          "name": "stdout",
          "text": [
            "Word 76 (\"bushfir\") appears 1 time.\n",
            "Word 112 (\"help\") appears 1 time.\n",
            "Word 483 (\"rain\") appears 1 time.\n",
            "Word 4005 (\"dampen\") appears 1 time.\n"
          ]
        }
      ]
    },
    {
      "cell_type": "code",
      "metadata": {
        "id": "QSiLgxN_KPIV"
      },
      "source": [
        "#run LDA using bag of words\n",
        "#Because LDA uses randomness in both training and inference steps, setting a random state is very important to control the randomness to make answers repeatable.\n",
        "lda_model = gensim.models.LdaMulticore(bow_corpus, num_topics=10, id2word=dictionary, passes=2, workers=2,random_state=2023)"
      ],
      "execution_count": 24,
      "outputs": []
    },
    {
      "cell_type": "code",
      "metadata": {
        "colab": {
          "base_uri": "https://localhost:8080/"
        },
        "id": "h6m5WWjAKPIV",
        "outputId": "07f43f40-fba7-4fef-cddd-90d72f4b8cdf"
      },
      "source": [
        "#for each topic, we will explore the words occuring in that topic and its relative weight.\n",
        "\n",
        "for idx, topic in lda_model.print_topics(-1): # print all the topics. (-1) means all the topics.\n",
        "    print('Topic: {} \\nWords: {}'.format(idx, topic))"
      ],
      "execution_count": 25,
      "outputs": [
        {
          "output_type": "stream",
          "name": "stdout",
          "text": [
            "Topic: 0 \n",
            "Words: 0.028*\"second\" + 0.022*\"hour\" + 0.018*\"adelaid\" + 0.018*\"trump\" + 0.018*\"canberra\" + 0.013*\"australia\" + 0.012*\"work\" + 0.012*\"weather\" + 0.011*\"lose\" + 0.010*\"brisban\"\n",
            "Topic: 1 \n",
            "Words: 0.022*\"crash\" + 0.020*\"final\" + 0.018*\"die\" + 0.017*\"tasmanian\" + 0.014*\"world\" + 0.013*\"leav\" + 0.013*\"women\" + 0.012*\"beat\" + 0.012*\"life\" + 0.012*\"victoria\"\n",
            "Topic: 2 \n",
            "Words: 0.055*\"say\" + 0.019*\"report\" + 0.015*\"kill\" + 0.015*\"attack\" + 0.012*\"hous\" + 0.011*\"minist\" + 0.011*\"releas\" + 0.010*\"prison\" + 0.009*\"australian\" + 0.009*\"northern\"\n",
            "Topic: 3 \n",
            "Words: 0.039*\"australia\" + 0.030*\"rural\" + 0.026*\"queensland\" + 0.026*\"south\" + 0.019*\"china\" + 0.019*\"north\" + 0.016*\"west\" + 0.012*\"miss\" + 0.012*\"flood\" + 0.012*\"talk\"\n",
            "Topic: 4 \n",
            "Words: 0.053*\"polic\" + 0.027*\"charg\" + 0.019*\"sydney\" + 0.018*\"death\" + 0.018*\"perth\" + 0.017*\"murder\" + 0.016*\"jail\" + 0.016*\"woman\" + 0.015*\"drug\" + 0.013*\"arrest\"\n",
            "Topic: 5 \n",
            "Words: 0.025*\"countri\" + 0.015*\"health\" + 0.014*\"council\" + 0.013*\"hospit\" + 0.013*\"school\" + 0.012*\"fund\" + 0.012*\"servic\" + 0.012*\"chang\" + 0.011*\"trial\" + 0.011*\"worker\"\n",
            "Topic: 6 \n",
            "Words: 0.025*\"market\" + 0.025*\"nation\" + 0.025*\"australian\" + 0.020*\"busi\" + 0.018*\"live\" + 0.015*\"share\" + 0.014*\"elect\" + 0.014*\"open\" + 0.013*\"return\" + 0.012*\"park\"\n",
            "Topic: 7 \n",
            "Words: 0.022*\"melbourn\" + 0.018*\"plan\" + 0.015*\"water\" + 0.013*\"coast\" + 0.013*\"concern\" + 0.013*\"power\" + 0.012*\"gold\" + 0.012*\"feder\" + 0.012*\"break\" + 0.011*\"centr\"\n",
            "Topic: 8 \n",
            "Words: 0.038*\"govern\" + 0.029*\"interview\" + 0.023*\"home\" + 0.022*\"news\" + 0.018*\"tasmania\" + 0.016*\"island\" + 0.015*\"leagu\" + 0.012*\"bank\" + 0.011*\"darwin\" + 0.010*\"john\"\n",
            "Topic: 9 \n",
            "Words: 0.039*\"court\" + 0.027*\"face\" + 0.020*\"price\" + 0.019*\"rise\" + 0.019*\"farm\" + 0.016*\"high\" + 0.016*\"indigen\" + 0.015*\"children\" + 0.015*\"port\" + 0.015*\"peopl\"\n"
          ]
        }
      ]
    },
    {
      "cell_type": "code",
      "metadata": {
        "colab": {
          "base_uri": "https://localhost:8080/"
        },
        "id": "KPR7bSxLKPIV",
        "outputId": "1a0ce8c4-1be2-465f-87ac-f7cd8f3bae20"
      },
      "source": [
        "lda_model[bow_corpus[4310]]"
      ],
      "execution_count": 26,
      "outputs": [
        {
          "output_type": "execute_result",
          "data": {
            "text/plain": [
              "[(0, 0.020004794),\n",
              " (1, 0.020004192),\n",
              " (2, 0.020004192),\n",
              " (3, 0.5379566),\n",
              " (4, 0.020005325),\n",
              " (5, 0.3020047),\n",
              " (6, 0.020005483),\n",
              " (7, 0.020004192),\n",
              " (8, 0.020006312),\n",
              " (9, 0.020004217)]"
            ]
          },
          "metadata": {},
          "execution_count": 26
        }
      ]
    },
    {
      "cell_type": "code",
      "metadata": {
        "colab": {
          "base_uri": "https://localhost:8080/"
        },
        "id": "gjwSOK32KPIW",
        "outputId": "b00c94f9-743c-4e77-f667-e3e02bbe2f8a"
      },
      "source": [
        "#check the topic distribution for the Document# 4310.\n",
        "#\"tup:-1tup[1]\" is a parameter for the key lambda for the sorted function. It means sorting by the reverse order of the topic socre.\n",
        "for index, score in sorted(lda_model[bow_corpus[4310]], key=lambda tup: -1*tup[1]):\n",
        "    print(\"\\nScore: {}\\t \\nTopic: {}\".format(score, lda_model.print_topic(index, 10))) #for each topic, print the top 10 words in that topic."
      ],
      "execution_count": 27,
      "outputs": [
        {
          "output_type": "stream",
          "name": "stdout",
          "text": [
            "\n",
            "Score: 0.5379974246025085\t \n",
            "Topic: 0.039*\"australia\" + 0.030*\"rural\" + 0.026*\"queensland\" + 0.026*\"south\" + 0.019*\"china\" + 0.019*\"north\" + 0.016*\"west\" + 0.012*\"miss\" + 0.012*\"flood\" + 0.012*\"talk\"\n",
            "\n",
            "Score: 0.3019638657569885\t \n",
            "Topic: 0.025*\"countri\" + 0.015*\"health\" + 0.014*\"council\" + 0.013*\"hospit\" + 0.013*\"school\" + 0.012*\"fund\" + 0.012*\"servic\" + 0.012*\"chang\" + 0.011*\"trial\" + 0.011*\"worker\"\n",
            "\n",
            "Score: 0.020006312057375908\t \n",
            "Topic: 0.038*\"govern\" + 0.029*\"interview\" + 0.023*\"home\" + 0.022*\"news\" + 0.018*\"tasmania\" + 0.016*\"island\" + 0.015*\"leagu\" + 0.012*\"bank\" + 0.011*\"darwin\" + 0.010*\"john\"\n",
            "\n",
            "Score: 0.02000548131763935\t \n",
            "Topic: 0.025*\"market\" + 0.025*\"nation\" + 0.025*\"australian\" + 0.020*\"busi\" + 0.018*\"live\" + 0.015*\"share\" + 0.014*\"elect\" + 0.014*\"open\" + 0.013*\"return\" + 0.012*\"park\"\n",
            "\n",
            "Score: 0.020005322992801666\t \n",
            "Topic: 0.053*\"polic\" + 0.027*\"charg\" + 0.019*\"sydney\" + 0.018*\"death\" + 0.018*\"perth\" + 0.017*\"murder\" + 0.016*\"jail\" + 0.016*\"woman\" + 0.015*\"drug\" + 0.013*\"arrest\"\n",
            "\n",
            "Score: 0.020004792138934135\t \n",
            "Topic: 0.028*\"second\" + 0.022*\"hour\" + 0.018*\"adelaid\" + 0.018*\"trump\" + 0.018*\"canberra\" + 0.013*\"australia\" + 0.012*\"work\" + 0.012*\"weather\" + 0.011*\"lose\" + 0.010*\"brisban\"\n",
            "\n",
            "Score: 0.020004214718937874\t \n",
            "Topic: 0.039*\"court\" + 0.027*\"face\" + 0.020*\"price\" + 0.019*\"rise\" + 0.019*\"farm\" + 0.016*\"high\" + 0.016*\"indigen\" + 0.015*\"children\" + 0.015*\"port\" + 0.015*\"peopl\"\n",
            "\n",
            "Score: 0.020004190504550934\t \n",
            "Topic: 0.022*\"crash\" + 0.020*\"final\" + 0.018*\"die\" + 0.017*\"tasmanian\" + 0.014*\"world\" + 0.013*\"leav\" + 0.013*\"women\" + 0.012*\"beat\" + 0.012*\"life\" + 0.012*\"victoria\"\n",
            "\n",
            "Score: 0.020004190504550934\t \n",
            "Topic: 0.055*\"say\" + 0.019*\"report\" + 0.015*\"kill\" + 0.015*\"attack\" + 0.012*\"hous\" + 0.011*\"minist\" + 0.011*\"releas\" + 0.010*\"prison\" + 0.009*\"australian\" + 0.009*\"northern\"\n",
            "\n",
            "Score: 0.020004190504550934\t \n",
            "Topic: 0.022*\"melbourn\" + 0.018*\"plan\" + 0.015*\"water\" + 0.013*\"coast\" + 0.013*\"concern\" + 0.013*\"power\" + 0.012*\"gold\" + 0.012*\"feder\" + 0.012*\"break\" + 0.011*\"centr\"\n"
          ]
        }
      ]
    },
    {
      "cell_type": "code",
      "metadata": {
        "colab": {
          "base_uri": "https://localhost:8080/"
        },
        "id": "K6BvJypcKPIW",
        "outputId": "3512dfcf-962e-4ab7-9c63-d15440257b0b"
      },
      "source": [
        "#check the topic coverage for a new document (not in the corpus)\n",
        "\n",
        "unseen_document = 'How a Pentagon deal became an identity crisis for Google'\n",
        "bow_vector = dictionary.doc2bow(preprocess(unseen_document))\n",
        "for index, score in sorted(lda_model[bow_vector], key=lambda tup: -1*tup[1]):\n",
        "    print(\"Score: {}\\t Topic: {}\".format(score, lda_model.print_topic(index, 5))) #for each topic, print the top 5 words in that topic."
      ],
      "execution_count": 28,
      "outputs": [
        {
          "output_type": "stream",
          "name": "stdout",
          "text": [
            "Score: 0.2960953116416931\t Topic: 0.039*\"australia\" + 0.030*\"rural\" + 0.026*\"queensland\" + 0.026*\"south\" + 0.019*\"china\"\n",
            "Score: 0.22962439060211182\t Topic: 0.055*\"say\" + 0.019*\"report\" + 0.015*\"kill\" + 0.015*\"attack\" + 0.012*\"hous\"\n",
            "Score: 0.19090256094932556\t Topic: 0.038*\"govern\" + 0.029*\"interview\" + 0.023*\"home\" + 0.022*\"news\" + 0.018*\"tasmania\"\n",
            "Score: 0.18329013884067535\t Topic: 0.053*\"polic\" + 0.027*\"charg\" + 0.019*\"sydney\" + 0.018*\"death\" + 0.018*\"perth\"\n",
            "Score: 0.016681775450706482\t Topic: 0.028*\"second\" + 0.022*\"hour\" + 0.018*\"adelaid\" + 0.018*\"trump\" + 0.018*\"canberra\"\n",
            "Score: 0.016681678593158722\t Topic: 0.025*\"market\" + 0.025*\"nation\" + 0.025*\"australian\" + 0.020*\"busi\" + 0.018*\"live\"\n",
            "Score: 0.01668151654303074\t Topic: 0.025*\"countri\" + 0.015*\"health\" + 0.014*\"council\" + 0.013*\"hospit\" + 0.013*\"school\"\n",
            "Score: 0.01668146438896656\t Topic: 0.022*\"melbourn\" + 0.018*\"plan\" + 0.015*\"water\" + 0.013*\"coast\" + 0.013*\"concern\"\n",
            "Score: 0.01668059080839157\t Topic: 0.039*\"court\" + 0.027*\"face\" + 0.020*\"price\" + 0.019*\"rise\" + 0.019*\"farm\"\n",
            "Score: 0.016680585220456123\t Topic: 0.022*\"crash\" + 0.020*\"final\" + 0.018*\"die\" + 0.017*\"tasmanian\" + 0.014*\"world\"\n"
          ]
        }
      ]
    }
  ]
}